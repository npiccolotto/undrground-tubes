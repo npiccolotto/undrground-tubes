{
 "cells": [
  {
   "cell_type": "code",
   "execution_count": 137,
   "metadata": {},
   "outputs": [],
   "source": [
    "import pandas as pd\n",
    "import numpy as np\n",
    "import scipy.spatial.distance as scidist\n",
    "from scipy.stats import zscore\n",
    "from sklearn.preprocessing import normalize\n",
    "import json\n",
    "import os\n",
    "import random\n",
    "import re"
   ]
  },
  {
   "attachments": {},
   "cell_type": "markdown",
   "metadata": {},
   "source": [
    "# Installation\n",
    "\n",
    "Go to [https://datasets.imdbws.com/](https://datasets.imdbws.com/), download `title.basics.tsv.gz` and `title.ratings.tsv.gz`, unzip into this folder. For the covers, go to [http://mmcv.csie.ncku.edu.tw/~wtchu/projects/MoviePoster/](http://mmcv.csie.ncku.edu.tw/~wtchu/projects/MoviePoster/), download the Movie Poster Dataset, throw all images into a folder \"covers\" (e.g., with `mv ~/Downloads/Movie_Poster_Dataset/**/*.jpg data/imdb/covers`)."
   ]
  },
  {
   "cell_type": "code",
   "execution_count": 138,
   "metadata": {},
   "outputs": [],
   "source": [
    "ratings = pd.read_csv('title.ratings.tsv', sep='\\t')\n",
    "movies = pd.read_csv('title.basics.tsv', sep=\"\\t\", header=0, converters={\n",
    "    # sucks, but it's mixed data everywhere\n",
    "    'tconst': str,\n",
    "    'titleType': str,\n",
    "    'primaryTitle': str,\n",
    "    'originalTitle': str,\n",
    "    'isAdult': str,\n",
    "    'startYear': str,\n",
    "    'endYear': str,\n",
    "    'runtimeMinutes': str,\n",
    "    'genres': str,\n",
    "})\n"
   ]
  },
  {
   "cell_type": "code",
   "execution_count": 139,
   "metadata": {},
   "outputs": [],
   "source": [
    "# filter for no porn and yes movies\n",
    "movies = movies.query('(isAdult == \"0\") & (titleType == \"movie\")')"
   ]
  },
  {
   "cell_type": "code",
   "execution_count": 140,
   "metadata": {},
   "outputs": [],
   "source": [
    "# read covers!\n",
    "cover_files = os.listdir('./covers')\n",
    "\n",
    "tconst_re = '(tt\\d+)\\.jpg'\n",
    "tconsts = list(map(lambda n: re.match(tconst_re, n).group(1) if re.match(tconst_re, n) is not None else '', cover_files))\n",
    "\n",
    "movie_covers = pd.DataFrame({'tconst': tconsts, 'cover': cover_files})\n"
   ]
  },
  {
   "cell_type": "code",
   "execution_count": 141,
   "metadata": {},
   "outputs": [],
   "source": [
    "# merge datasets\n",
    "movie_ratings = pd.merge(ratings, movies, how='inner', on='tconst')\n",
    "movie_ratings = pd.merge(movie_ratings, movie_covers, how='inner', on='tconst')"
   ]
  },
  {
   "cell_type": "code",
   "execution_count": 124,
   "metadata": {},
   "outputs": [
    {
     "data": {
      "text/plain": [
       "6874"
      ]
     },
     "execution_count": 124,
     "metadata": {},
     "output_type": "execute_result"
    }
   ],
   "source": [
    "# filter for movies that have at least 1000 votes\n",
    "movie_ratings = movie_ratings.query('(numVotes >= 1000)')\n",
    "# should give around 7K movies\n",
    "len(movie_ratings)"
   ]
  },
  {
   "cell_type": "code",
   "execution_count": 142,
   "metadata": {},
   "outputs": [],
   "source": [
    "movie_ratings['year'] = movie_ratings['startYear'].apply(lambda s: int(s))"
   ]
  },
  {
   "cell_type": "code",
   "execution_count": 143,
   "metadata": {},
   "outputs": [],
   "source": [
    "# normalize the variables we use for distance (since votes are on a completely different scale than ratings)\n",
    "# tbh idk if we need normalization or standardization \n",
    "#movie_ratings['averageRating_unit'] = movie_ratings['averageRating'].to_numpy() / 10\n",
    "movie_ratings['averageRating_unit'] = zscore(movie_ratings['averageRating'])\n",
    "movie_ratings['numVotes_unit'] = zscore(movie_ratings['numVotes'])\n",
    "movie_ratings['year_unit'] = zscore(movie_ratings['year'])\n",
    "#movie_ratings['numVotes_unit'] = (movie_ratings['numVotes']-movie_ratings['numVotes'].min())/(movie_ratings['numVotes'].max()-movie_ratings['numVotes'].min())"
   ]
  },
  {
   "cell_type": "code",
   "execution_count": 144,
   "metadata": {},
   "outputs": [
    {
     "data": {
      "text/plain": [
       "3348"
      ]
     },
     "execution_count": 144,
     "metadata": {},
     "output_type": "execute_result"
    }
   ],
   "source": [
    "# filter to top K genres\n",
    "# (each genre needs a color, can't do 20-something colors)\n",
    "K = 5\n",
    "genres = movie_ratings.genres.str.split(',').apply(lambda x:set(x))\n",
    "all_genres = list(set.union(*genres))\n",
    "setdist_table = [\n",
    "    list(map(lambda ag: 1 if ag in i else 0, all_genres)) for i in genres\n",
    "]\n",
    "setdist_table = np.array(setdist_table)\n",
    "genre_freq = np.sum(setdist_table,axis=0)\n",
    "all_genres_sorted = sorted(all_genres, key=lambda g: genre_freq[all_genres.index(g)],reverse=True)\n",
    "limit_to_genres = all_genres_sorted[:(K+1)]\n",
    "\n",
    "for genre in all_genres:\n",
    "    movie_ratings[f'genre_{genre}'] = setdist_table[:,all_genres.index(genre)]\n",
    "# set all other genres to zero in the hopes that all movies have at least one genre, which will then be one of those we want\n",
    "for genre in set(all_genres).difference(set(limit_to_genres)):\n",
    "    genre_col = f'genre_{genre}'\n",
    "    movie_ratings = movie_ratings[movie_ratings[genre_col]== 0]\n",
    "len(movie_ratings)"
   ]
  },
  {
   "cell_type": "code",
   "execution_count": 146,
   "metadata": {},
   "outputs": [],
   "source": [
    "\n",
    "# let's take some movies at random for efficiency\n",
    "random.seed(1)\n",
    "N = 10\n",
    "\n",
    "movie_ratings = movie_ratings.sample(N)\n",
    "\n",
    "movie_names = movie_ratings['primaryTitle'] + ' (' + movie_ratings['startYear'] +')'\n",
    "\n",
    "movie_dists = scidist.squareform(scidist.pdist(movie_ratings[['averageRating_unit','numVotes_unit', 'year_unit']]))\n",
    "\n",
    "movie_genres = movie_ratings['genres'].str.split(',').apply(lambda g: set(g))\n",
    "all_genres = set.union(*movie_genres)\n",
    "\n",
    "setdist_table = [\n",
    "    list(map(lambda ag: 1 if ag in i else 0, all_genres)) for i in movie_genres\n",
    "]\n",
    "setdist_table = np.array(setdist_table)\n",
    "setdists = scidist.squareform(scidist.pdist(setdist_table, scidist.jaccard))\n"
   ]
  },
  {
   "cell_type": "code",
   "execution_count": 152,
   "metadata": {},
   "outputs": [
    {
     "name": "stdout",
     "output_type": "stream",
     "text": [
      "tt0274812\n",
      "tt0388500\n",
      "tt1980986\n",
      "tt0118655\n",
      "tt0093565\n",
      "tt0243255\n",
      "tt4276752\n",
      "tt0398375\n",
      "tt0137338\n",
      "tt0188863\n"
     ]
    }
   ],
   "source": [
    "# haha fun part let's make actual glyph images!\n",
    "from PIL import Image, ImageDraw, ImageFont\n",
    "\n",
    "def expand2square(pil_img, background_color=(0,0,0)):\n",
    "    width, height = pil_img.size\n",
    "    if width == height:\n",
    "        return pil_img\n",
    "    elif width > height:\n",
    "        result = Image.new(pil_img.mode, (width, width), background_color)\n",
    "        result.paste(pil_img, (0, (width - height) // 2))\n",
    "        return result\n",
    "    else:\n",
    "        result = Image.new(pil_img.mode, (height, height), background_color)\n",
    "        result.paste(pil_img, ((height - width) // 2, 0))\n",
    "        return result\n",
    "\n",
    "def add_margin(pil_img, top, right, bottom, left, color):\n",
    "    width, height = pil_img.size\n",
    "    new_width = width + right + left\n",
    "    new_height = height + top + bottom\n",
    "    result = Image.new(pil_img.mode, (new_width, new_height), color)\n",
    "    result.paste(pil_img, (left, top))\n",
    "    return result\n",
    "\n",
    "\n",
    "for i, c in enumerate(movie_ratings['cover']):\n",
    "    movie = movie_ratings.iloc[i]\n",
    "    tconst, ext = c.split('.')\n",
    "    with Image.open(f'./covers/{c}') as im:\n",
    "        im2 = expand2square(im.copy())\n",
    "        im2 = im2.resize((300,300))\n",
    "        im2 = add_margin(im2, 50,0,100,0,(0,0,0))\n",
    "        w,h = im2.size\n",
    "        print(tconst)\n",
    "\n",
    "        fnt = ImageFont.truetype(\"Arial.ttf\", 40)\n",
    "        d = ImageDraw.Draw(im2)\n",
    "        d.text((150, 45), movie['startYear'], font=fnt, fill=(255, 255, 255), anchor='ms')\n",
    "        d.text((5, 50+395), \"{:.2f}\".format(movie['averageRating']), font=fnt, fill=(255, 255, 255), anchor='ls')\n",
    "        d.text((295, 50+395), \"{:,}\".format(movie['numVotes']), font=fnt, fill=(255, 255, 255), anchor='rs')\n",
    "        y = 325+50\n",
    "        for star in range(round(movie['averageRating'])):\n",
    "            x = 10 + star*25 + max(0, star-1)*2\n",
    "            d.ellipse((x,y,x+25,y+25), fill=(255,255,0))\n",
    "        for star in range(round(movie['averageRating']), 10):\n",
    "            x = 10 + star*25 + max(0, star-1)*2\n",
    "            d.ellipse((x,y,x+25,y+25), outline=(255,255,0))\n",
    "\n",
    "        im2.save(f'./test/{tconst}_thumb.{ext}', \"JPEG\")\n",
    "        # TODO add path to dataframe"
   ]
  },
  {
   "cell_type": "code",
   "execution_count": 155,
   "metadata": {},
   "outputs": [],
   "source": [
    "with open(f'imdb_{N}.json', 'w', encoding='utf8') as f:\n",
    "    jsonstr = {\n",
    "        'glyph_ids': movie_ratings['tconst'].apply(lambda t: f'data/imdb/imdb10/{t}_thumb.jpg').tolist(),\n",
    "        'E': movie_names.tolist(),\n",
    "        'EA': movie_dists.tolist(),\n",
    "        'SR': movie_genres.apply(lambda s: list(s)).tolist(),\n",
    "        'S': list(all_genres),\n",
    "        'SA': setdists.tolist()\n",
    "    }\n",
    "    json.dump(jsonstr, f, ensure_ascii=False)"
   ]
  },
  {
   "cell_type": "code",
   "execution_count": 130,
   "metadata": {},
   "outputs": [
    {
     "data": {
      "text/plain": [
       "3003    Comedy,Crime,Drama\n",
       "Name: genres, dtype: object"
      ]
     },
     "execution_count": 130,
     "metadata": {},
     "output_type": "execute_result"
    }
   ],
   "source": []
  },
  {
   "cell_type": "code",
   "execution_count": null,
   "metadata": {},
   "outputs": [],
   "source": []
  }
 ],
 "metadata": {
  "kernelspec": {
   "display_name": "Python 3",
   "language": "python",
   "name": "python3"
  },
  "language_info": {
   "codemirror_mode": {
    "name": "ipython",
    "version": 3
   },
   "file_extension": ".py",
   "mimetype": "text/x-python",
   "name": "python",
   "nbconvert_exporter": "python",
   "pygments_lexer": "ipython3",
   "version": "3.10.10"
  },
  "orig_nbformat": 4
 },
 "nbformat": 4,
 "nbformat_minor": 2
}
