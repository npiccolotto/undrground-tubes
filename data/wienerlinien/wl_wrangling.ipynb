{
 "cells": [
  {
   "cell_type": "code",
   "execution_count": 60,
   "id": "a4466081",
   "metadata": {},
   "outputs": [],
   "source": [
    "import pandas as pd\n",
    "import numpy as np\n",
    "import scipy.spatial.distance as scidist\n",
    "import json"
   ]
  },
  {
   "cell_type": "code",
   "execution_count": 63,
   "id": "da310cd0",
   "metadata": {},
   "outputs": [],
   "source": [
    "from math import radians, degrees, sin, cos, asin, acos, sqrt"
   ]
  },
  {
   "cell_type": "code",
   "execution_count": 64,
   "id": "461994f4",
   "metadata": {},
   "outputs": [],
   "source": [
    "def great_circle_dist(lonlat1,lonlat2):\n",
    "    '''https://medium.com/@petehouston/calculate-distance-of-two-locations-on-earth-using-python-1501b1944d97'''\n",
    "    lon1,lat1=lonlat1\n",
    "    lon2,lat2=lonlat2\n",
    "    lon1, lat1, lon2, lat2 = map(radians, [lon1, lat1, lon2, lat2])\n",
    "    return 6371 * (\n",
    "        acos(sin(lat1) * sin(lat2) + cos(lat1) * cos(lat2) * cos(lon1 - lon2))\n",
    "    )"
   ]
  },
  {
   "cell_type": "code",
   "execution_count": 65,
   "id": "a2ef40fa",
   "metadata": {},
   "outputs": [],
   "source": [
    "hs = pd.read_csv('OEFFHALTESTOGD.csv')"
   ]
  },
  {
   "cell_type": "code",
   "execution_count": 66,
   "id": "422b4ea4",
   "metadata": {},
   "outputs": [],
   "source": [
    "# LTYP 4 = subway\n",
    "hs = hs.loc[hs['LTYP'] == 4]"
   ]
  },
  {
   "cell_type": "code",
   "execution_count": 67,
   "id": "5b81dfe4",
   "metadata": {},
   "outputs": [],
   "source": [
    "hs.drop(labels=['FID','OBJECTID','HTXT','DIVA_ID','WEBLINK1','SE_ANNO_CAD_DATA','LTYP'], axis=1,inplace=True)"
   ]
  },
  {
   "cell_type": "code",
   "execution_count": 68,
   "id": "4aad26e1",
   "metadata": {},
   "outputs": [],
   "source": [
    "hs.reset_index(inplace=True)"
   ]
  },
  {
   "cell_type": "code",
   "execution_count": 69,
   "id": "bd819e34",
   "metadata": {},
   "outputs": [],
   "source": [
    "hs[\"LINES\"] =hs['HLINIEN'].str.findall(r'(?P<LINE>U\\d{1}[EZ]?)').str.join(',')"
   ]
  },
  {
   "cell_type": "code",
   "execution_count": 70,
   "id": "257cc77f",
   "metadata": {},
   "outputs": [],
   "source": [
    "hspos = hs.SHAPE.str.extract(\"POINT \\((?P<lon>\\d{2}\\.\\d{10,15}) (?P<lat>\\d{2}\\.\\d{10,15})\\)\")"
   ]
  },
  {
   "cell_type": "code",
   "execution_count": 71,
   "id": "1e3acac3",
   "metadata": {},
   "outputs": [],
   "source": [
    "hs = pd.concat([hs, hspos],axis=1)"
   ]
  },
  {
   "cell_type": "code",
   "execution_count": 72,
   "id": "5d175cca",
   "metadata": {},
   "outputs": [],
   "source": [
    "hs.drop(labels=['SHAPE', 'HLINIEN'], axis=1,inplace=True)\n",
    "hs.reset_index(inplace=True)"
   ]
  },
  {
   "cell_type": "code",
   "execution_count": 74,
   "id": "2588e898",
   "metadata": {},
   "outputs": [],
   "source": [
    "hs['lat'] = hs['lat'].astype('float64')"
   ]
  },
  {
   "cell_type": "code",
   "execution_count": 75,
   "id": "1f6977c8",
   "metadata": {},
   "outputs": [],
   "source": [
    "hs['lon'] = hs['lon'].astype('float64')"
   ]
  },
  {
   "cell_type": "code",
   "execution_count": 76,
   "id": "9d1fac73",
   "metadata": {},
   "outputs": [],
   "source": [
    "hs_dist = scidist.squareform(scidist.pdist(hs[['lon','lat']], great_circle_dist))"
   ]
  },
  {
   "cell_type": "code",
   "execution_count": 88,
   "id": "95f3708c",
   "metadata": {},
   "outputs": [],
   "source": [
    "with open('wienerlinien.json', 'w') as f:\n",
    "    jsonstr = json.dumps({\n",
    "        'E': hs['HTXTK'].tolist(),\n",
    "        'EA': hs_dist.tolist(),\n",
    "        'SR': hs['LINES'].str.split(',').tolist()\n",
    "    })\n",
    "    f.write(jsonstr)\n",
    "    f.flush()"
   ]
  },
  {
   "cell_type": "code",
   "execution_count": 84,
   "id": "cbbd4384",
   "metadata": {},
   "outputs": [
    {
     "data": {
      "text/plain": [
       "['Alaudagasse',\n",
       " 'Braunschweiggasse',\n",
       " 'Burggasse-Stadthalle',\n",
       " 'Donauinsel',\n",
       " 'Stubentor',\n",
       " 'Alser Straße',\n",
       " 'Alte Donau',\n",
       " 'Altes Landgut',\n",
       " 'Am Schöpfwerk',\n",
       " 'Neubaugasse',\n",
       " 'Siebenhirten',\n",
       " 'Handelskai',\n",
       " 'Mitte-Landstraße',\n",
       " 'Simmering',\n",
       " 'Gasometer',\n",
       " 'Donaumarina',\n",
       " 'Erlaaer Straße',\n",
       " 'Erdberg',\n",
       " 'Donaustadtbrücke',\n",
       " 'Leopoldau',\n",
       " 'Donauspital',\n",
       " 'Stadlau',\n",
       " 'Stadtpark',\n",
       " 'Aspernstraße',\n",
       " 'Längenfeldgasse',\n",
       " 'Margaretengürtel',\n",
       " 'Kendlerstraße',\n",
       " 'Stephansplatz',\n",
       " 'Floridsdorf',\n",
       " 'Meidling Hauptstraße',\n",
       " 'Hauptbahnhof',\n",
       " 'Aderklaaer Straße',\n",
       " 'Großfeldsiedlung',\n",
       " 'Rennbahnweg',\n",
       " 'Friedensbrücke',\n",
       " 'Michelbeuern-AKH',\n",
       " 'Taubstummengasse',\n",
       " 'Thaliastraße',\n",
       " 'Tscherttegasse',\n",
       " 'Unter St. Veit',\n",
       " 'Taborstraße',\n",
       " 'Messe-Prater',\n",
       " 'Krieau',\n",
       " 'Stadion',\n",
       " 'Zippererstraße',\n",
       " 'Aspern Nord',\n",
       " 'Nestroyplatz',\n",
       " 'Volkstheater',\n",
       " 'Vorgartenstraße',\n",
       " 'Enkplatz',\n",
       " 'Gumpendorfer Straße',\n",
       " 'Niederhofstraße',\n",
       " 'Seestadt',\n",
       " 'Oberlaa',\n",
       " 'Nußdorfer Straße',\n",
       " 'Ober St. Veit',\n",
       " 'Hardeggasse',\n",
       " 'Ottakring',\n",
       " 'Westbahnhof',\n",
       " 'Neulaa',\n",
       " 'Hausfeldstraße',\n",
       " 'Heiligenstadt',\n",
       " 'Dresdner Straße',\n",
       " 'Herrengasse',\n",
       " 'Perfektastraße',\n",
       " 'Meidling',\n",
       " 'Pilgramgasse',\n",
       " 'Alterlaa',\n",
       " 'Währinger Straße-Volksoper',\n",
       " 'Hietzing',\n",
       " 'Hütteldorfer Straße',\n",
       " 'Praterstern',\n",
       " 'Zieglergasse',\n",
       " 'Hütteldorf',\n",
       " 'Spittelau',\n",
       " 'Troststraße',\n",
       " 'Johnstraße',\n",
       " 'Reumannplatz',\n",
       " 'Rochusgasse',\n",
       " 'Josefstädter Straße',\n",
       " 'Kagran',\n",
       " 'Kagraner Platz',\n",
       " 'Kaisermühlen-VIC',\n",
       " 'Roßauer Lände',\n",
       " 'Kardinal-Nagl-Platz',\n",
       " 'Karlsplatz',\n",
       " 'Keplerplatz',\n",
       " 'Kettenbrückengasse',\n",
       " 'Jägerstraße',\n",
       " 'Neue Donau',\n",
       " 'Schottenring',\n",
       " 'Schottentor',\n",
       " 'Schwedenplatz',\n",
       " 'Schlachthausgasse',\n",
       " 'Schweglerstraße',\n",
       " 'Schönbrunn']"
      ]
     },
     "execution_count": 84,
     "metadata": {},
     "output_type": "execute_result"
    }
   ],
   "source": []
  },
  {
   "cell_type": "code",
   "execution_count": null,
   "id": "d1735581",
   "metadata": {},
   "outputs": [],
   "source": []
  }
 ],
 "metadata": {
  "kernelspec": {
   "display_name": "Python 3 (ipykernel)",
   "language": "python",
   "name": "python3"
  },
  "language_info": {
   "codemirror_mode": {
    "name": "ipython",
    "version": 3
   },
   "file_extension": ".py",
   "mimetype": "text/x-python",
   "name": "python",
   "nbconvert_exporter": "python",
   "pygments_lexer": "ipython3",
   "version": "3.9.16"
  }
 },
 "nbformat": 4,
 "nbformat_minor": 5
}
