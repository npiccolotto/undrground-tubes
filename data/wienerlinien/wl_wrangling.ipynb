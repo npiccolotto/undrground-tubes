{
 "cells": [
  {
   "cell_type": "code",
   "execution_count": 60,
   "id": "b379c838",
   "metadata": {},
   "outputs": [],
   "source": [
    "import pandas as pd\n",
    "import numpy as np\n",
    "import scipy.spatial.distance as scidist\n",
    "import json"
   ]
  },
  {
   "cell_type": "code",
   "execution_count": 63,
   "id": "e84dbb05",
   "metadata": {},
   "outputs": [],
   "source": [
    "from math import radians, degrees, sin, cos, asin, acos, sqrt"
   ]
  },
  {
   "cell_type": "code",
   "execution_count": 64,
   "id": "747d286a",
   "metadata": {},
   "outputs": [],
   "source": [
    "def great_circle_dist(lonlat1,lonlat2):\n",
    "    '''https://medium.com/@petehouston/calculate-distance-of-two-locations-on-earth-using-python-1501b1944d97'''\n",
    "    lon1,lat1=lonlat1\n",
    "    lon2,lat2=lonlat2\n",
    "    lon1, lat1, lon2, lat2 = map(radians, [lon1, lat1, lon2, lat2])\n",
    "    return 6371 * (\n",
    "        acos(sin(lat1) * sin(lat2) + cos(lat1) * cos(lat2) * cos(lon1 - lon2))\n",
    "    )"
   ]
  },
  {
   "cell_type": "code",
   "execution_count": 65,
   "id": "9f3930d6",
   "metadata": {},
   "outputs": [],
   "source": [
    "hs = pd.read_csv('OEFFHALTESTOGD.csv')"
   ]
  },
  {
   "cell_type": "code",
   "execution_count": 66,
   "id": "93664487",
   "metadata": {},
   "outputs": [],
   "source": [
    "# LTYP 4 = subway\n",
    "hs = hs.loc[hs['LTYP'] == 4]"
   ]
  },
  {
   "cell_type": "code",
   "execution_count": 67,
   "id": "4e49396e",
   "metadata": {},
   "outputs": [],
   "source": [
    "hs.drop(labels=['FID','OBJECTID','HTXT','DIVA_ID','WEBLINK1','SE_ANNO_CAD_DATA','LTYP'], axis=1,inplace=True)"
   ]
  },
  {
   "cell_type": "code",
   "execution_count": 68,
   "id": "134b64b4",
   "metadata": {},
   "outputs": [],
   "source": [
    "hs.reset_index(inplace=True)"
   ]
  },
  {
   "cell_type": "code",
   "execution_count": 69,
   "id": "7ee8feee",
   "metadata": {},
   "outputs": [],
   "source": [
    "hs[\"LINES\"] =hs['HLINIEN'].str.findall(r'(?P<LINE>U\\d{1}[EZ]?)').str.join(',')"
   ]
  },
  {
   "cell_type": "code",
   "execution_count": 70,
   "id": "0a8cfc00",
   "metadata": {},
   "outputs": [],
   "source": [
    "hspos = hs.SHAPE.str.extract(\"POINT \\((?P<lon>\\d{2}\\.\\d{10,15}) (?P<lat>\\d{2}\\.\\d{10,15})\\)\")"
   ]
  },
  {
   "cell_type": "code",
   "execution_count": 71,
   "id": "aedd5d2c",
   "metadata": {},
   "outputs": [],
   "source": [
    "hs = pd.concat([hs, hspos],axis=1)"
   ]
  },
  {
   "cell_type": "code",
   "execution_count": 72,
   "id": "ee98cd99",
   "metadata": {},
   "outputs": [],
   "source": [
    "hs.drop(labels=['SHAPE', 'HLINIEN'], axis=1,inplace=True)\n",
    "hs.reset_index(inplace=True)"
   ]
  },
  {
   "cell_type": "code",
   "execution_count": 74,
   "id": "7ab7b534",
   "metadata": {},
   "outputs": [],
   "source": [
    "hs['lat'] = hs['lat'].astype('float64')"
   ]
  },
  {
   "cell_type": "code",
   "execution_count": 75,
   "id": "1e33d114",
   "metadata": {},
   "outputs": [],
   "source": [
    "hs['lon'] = hs['lon'].astype('float64')"
   ]
  },
  {
   "cell_type": "code",
   "execution_count": 76,
   "id": "9355c4be",
   "metadata": {},
   "outputs": [],
   "source": [
    "hs_dist = scidist.squareform(scidist.pdist(hs[['lon','lat']], great_circle_dist))"
   ]
  },
  {
   "cell_type": "code",
   "execution_count": 115,
   "id": "af73cff7",
   "metadata": {},
   "outputs": [],
   "source": [
    "lines = list(sorted(set([item for sublist in hs['LINES'].str.split(',').tolist() for item in sublist])))\n",
    "lines_vec = [ list(map(lambda l: 1 if l in lines_at_station else 0, lines)) for lines_at_station in hs['LINES'].str.split(',').tolist()]\n",
    "hs_dist_lines = scidist.squareform(scidist.pdist(np.array(lines_vec), scidist.jaccard))"
   ]
  },
  {
   "cell_type": "code",
   "execution_count": 122,
   "id": "dbe6c6ee",
   "metadata": {},
   "outputs": [],
   "source": [
    "with open('wienerlinien.json', 'w', encoding='utf8') as f:\n",
    "    jsonstr = {\n",
    "        'E': hs['HTXTK'].tolist(),\n",
    "        'EA': hs_dist.tolist(),\n",
    "        'SR': hs['LINES'].str.split(',').tolist(),\n",
    "        'S': lines,\n",
    "        'SA': hs_dist_lines.tolist()\n",
    "    }\n",
    "    json.dump(jsonstr, f, ensure_ascii=False)"
   ]
  }
 ],
 "metadata": {
  "kernelspec": {
   "display_name": "Python 3 (ipykernel)",
   "language": "python",
   "name": "python3"
  },
  "language_info": {
   "codemirror_mode": {
    "name": "ipython",
    "version": 3
   },
   "file_extension": ".py",
   "mimetype": "text/x-python",
   "name": "python",
   "nbconvert_exporter": "python",
   "pygments_lexer": "ipython3",
   "version": "3.9.16"
  }
 },
 "nbformat": 4,
 "nbformat_minor": 5
}
