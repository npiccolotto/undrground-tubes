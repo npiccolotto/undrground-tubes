{
 "cells": [
  {
   "cell_type": "code",
   "execution_count": 470,
   "id": "b379c838",
   "metadata": {},
   "outputs": [],
   "source": [
    "import pandas as pd\n",
    "import numpy as np\n",
    "import scipy.spatial.distance as scidist\n",
    "import json"
   ]
  },
  {
   "cell_type": "code",
   "execution_count": 471,
   "id": "e84dbb05",
   "metadata": {},
   "outputs": [],
   "source": [
    "from math import radians, degrees, sin, cos, asin, acos, sqrt"
   ]
  },
  {
   "cell_type": "code",
   "execution_count": 472,
   "id": "747d286a",
   "metadata": {},
   "outputs": [],
   "source": [
    "def great_circle_dist(lonlat1,lonlat2):\n",
    "    '''https://medium.com/@petehouston/calculate-distance-of-two-locations-on-earth-using-python-1501b1944d97'''\n",
    "    lon1,lat1=lonlat1\n",
    "    lon2,lat2=lonlat2\n",
    "    lon1, lat1, lon2, lat2 = map(radians, [lon1, lat1, lon2, lat2])\n",
    "    return 6371 * (\n",
    "        acos(sin(lat1) * sin(lat2) + cos(lat1) * cos(lat2) * cos(lon1 - lon2))\n",
    "    )"
   ]
  },
  {
   "cell_type": "code",
   "execution_count": 473,
   "id": "9f3930d6",
   "metadata": {},
   "outputs": [],
   "source": [
    "hs = pd.read_csv('OEFFHALTESTOGD.csv')"
   ]
  },
  {
   "cell_type": "code",
   "execution_count": 474,
   "id": "93664487",
   "metadata": {},
   "outputs": [],
   "source": [
    "# LTYP 4 = subway\n",
    "# LTYP 1 = tram\n",
    "hs = hs.loc[hs['LTYP'] == 1]"
   ]
  },
  {
   "cell_type": "code",
   "execution_count": 475,
   "id": "4e49396e",
   "metadata": {},
   "outputs": [],
   "source": [
    "hs.drop(labels=['FID','OBJECTID','HTXT','DIVA_ID','WEBLINK1','SE_ANNO_CAD_DATA','LTYP'], axis=1,inplace=True)"
   ]
  },
  {
   "cell_type": "code",
   "execution_count": 476,
   "id": "134b64b4",
   "metadata": {},
   "outputs": [],
   "source": [
    "hs.reset_index(inplace=True)"
   ]
  },
  {
   "cell_type": "code",
   "execution_count": 477,
   "id": "08285517",
   "metadata": {},
   "outputs": [],
   "source": [
    "hs[\"LINES\"] = hs[\"HLINIEN\"].str.split(', ').str.join(',')"
   ]
  },
  {
   "cell_type": "code",
   "execution_count": 478,
   "id": "7ee8feee",
   "metadata": {},
   "outputs": [],
   "source": [
    "#hs[\"LINES\"] =hs['HLINIEN'].str.findall(r'(?P<LINE>U\\d{1}[EZ]?)').str.join(',')"
   ]
  },
  {
   "cell_type": "code",
   "execution_count": 479,
   "id": "0a8cfc00",
   "metadata": {},
   "outputs": [],
   "source": [
    "hspos = hs.SHAPE.str.extract(\"POINT \\((?P<lon>\\d{2}\\.\\d{10,15}) (?P<lat>\\d{2}\\.\\d{10,15})\\)\")"
   ]
  },
  {
   "cell_type": "code",
   "execution_count": 480,
   "id": "aedd5d2c",
   "metadata": {},
   "outputs": [],
   "source": [
    "hs = pd.concat([hs, hspos],axis=1)"
   ]
  },
  {
   "cell_type": "code",
   "execution_count": 481,
   "id": "ee98cd99",
   "metadata": {},
   "outputs": [],
   "source": [
    "hs.drop(labels=['SHAPE', 'HLINIEN'], axis=1,inplace=True)\n",
    "hs.reset_index(inplace=True)"
   ]
  },
  {
   "cell_type": "code",
   "execution_count": 482,
   "id": "7ab7b534",
   "metadata": {},
   "outputs": [],
   "source": [
    "hs['lat'] = hs['lat'].astype('float64')"
   ]
  },
  {
   "cell_type": "code",
   "execution_count": 483,
   "id": "1e33d114",
   "metadata": {},
   "outputs": [],
   "source": [
    "hs['lon'] = hs['lon'].astype('float64')"
   ]
  },
  {
   "cell_type": "code",
   "execution_count": 484,
   "id": "170feeb2",
   "metadata": {},
   "outputs": [],
   "source": [
    "# filter some stations\n",
    "#hs = hs.loc[hs['HTXTK'].isin(['Stephansplatz', 'Schwedenplatz', 'Stubentor', 'Mitte-Landstraße', 'Neubaugasse', 'Ottakring', 'Simmering', 'Oberlaa'])]\n",
    "# filter lines on ring\n",
    "# merge stations with identical name\n",
    "uniq_stations = hs[['HTXTK','lon','lat']].groupby('HTXTK').mean()\n",
    "uniq_stations.reset_index(inplace=True)\n",
    "\n",
    "# filter lines \n",
    "hs['LINES_SPLIT'] = hs['LINES'].str.split(',')\n",
    "ring_lines = set(['1','2','71','D'])\n",
    "hs=hs.loc[hs['LINES_SPLIT'].apply(lambda x: len(set(x).intersection(ring_lines))>0)]\n",
    "hs['LINES_SPLIT']=hs['LINES_SPLIT'].apply(lambda x: set(x).intersection(ring_lines))\n",
    "hs.drop(columns=['lon','lat','LINES'],inplace=True)\n",
    "#hs['LINES']=hs['LINES_SPLIT'].str.join(',')\n",
    "\n",
    "# match to unique stations\n",
    "hs.drop(columns=['level_0','index'],inplace=True)\n",
    "\n"
   ]
  },
  {
   "cell_type": "code",
   "execution_count": 485,
   "id": "ea3f974a",
   "metadata": {},
   "outputs": [
    {
     "data": {
      "text/html": [
       "<div>\n",
       "<style scoped>\n",
       "    .dataframe tbody tr th:only-of-type {\n",
       "        vertical-align: middle;\n",
       "    }\n",
       "\n",
       "    .dataframe tbody tr th {\n",
       "        vertical-align: top;\n",
       "    }\n",
       "\n",
       "    .dataframe thead th {\n",
       "        text-align: right;\n",
       "    }\n",
       "</style>\n",
       "<table border=\"1\" class=\"dataframe\">\n",
       "  <thead>\n",
       "    <tr style=\"text-align: right;\">\n",
       "      <th></th>\n",
       "      <th>HTXTK</th>\n",
       "      <th>lon</th>\n",
       "      <th>lat</th>\n",
       "      <th>LINES</th>\n",
       "    </tr>\n",
       "  </thead>\n",
       "  <tbody>\n",
       "    <tr>\n",
       "      <th>0</th>\n",
       "      <td>Absberggasse</td>\n",
       "      <td>16.390614</td>\n",
       "      <td>48.176064</td>\n",
       "      <td>D</td>\n",
       "    </tr>\n",
       "    <tr>\n",
       "      <th>1</th>\n",
       "      <td>Albertgasse</td>\n",
       "      <td>16.343960</td>\n",
       "      <td>48.210668</td>\n",
       "      <td>2</td>\n",
       "    </tr>\n",
       "    <tr>\n",
       "      <th>2</th>\n",
       "      <td>Alfred-Adler-Straße</td>\n",
       "      <td>16.381552</td>\n",
       "      <td>48.182055</td>\n",
       "      <td>D</td>\n",
       "    </tr>\n",
       "    <tr>\n",
       "      <th>3</th>\n",
       "      <td>Althanstraße</td>\n",
       "      <td>16.359489</td>\n",
       "      <td>48.228849</td>\n",
       "      <td>D</td>\n",
       "    </tr>\n",
       "    <tr>\n",
       "      <th>4</th>\n",
       "      <td>Am Heumarkt</td>\n",
       "      <td>16.376822</td>\n",
       "      <td>48.198641</td>\n",
       "      <td>71</td>\n",
       "    </tr>\n",
       "    <tr>\n",
       "      <th>...</th>\n",
       "      <td>...</td>\n",
       "      <td>...</td>\n",
       "      <td>...</td>\n",
       "      <td>...</td>\n",
       "    </tr>\n",
       "    <tr>\n",
       "      <th>129</th>\n",
       "      <td>Zentralfriedhof 1.Tor</td>\n",
       "      <td>16.433115</td>\n",
       "      <td>48.159185</td>\n",
       "      <td>71</td>\n",
       "    </tr>\n",
       "    <tr>\n",
       "      <th>130</th>\n",
       "      <td>Zentralfriedhof 2.Tor</td>\n",
       "      <td>16.441950</td>\n",
       "      <td>48.154547</td>\n",
       "      <td>71</td>\n",
       "    </tr>\n",
       "    <tr>\n",
       "      <th>131</th>\n",
       "      <td>Zentralfriedhof 3.Tor</td>\n",
       "      <td>16.448481</td>\n",
       "      <td>48.152716</td>\n",
       "      <td>71</td>\n",
       "    </tr>\n",
       "    <tr>\n",
       "      <th>132</th>\n",
       "      <td>Zentralfriedhof 4.Tor</td>\n",
       "      <td>16.453219</td>\n",
       "      <td>48.151706</td>\n",
       "      <td>71</td>\n",
       "    </tr>\n",
       "    <tr>\n",
       "      <th>133</th>\n",
       "      <td>Zippererstraße</td>\n",
       "      <td>16.410635</td>\n",
       "      <td>48.179450</td>\n",
       "      <td>71</td>\n",
       "    </tr>\n",
       "  </tbody>\n",
       "</table>\n",
       "<p>134 rows × 4 columns</p>\n",
       "</div>"
      ],
      "text/plain": [
       "                     HTXTK        lon        lat LINES\n",
       "0             Absberggasse  16.390614  48.176064     D\n",
       "1              Albertgasse  16.343960  48.210668     2\n",
       "2      Alfred-Adler-Straße  16.381552  48.182055     D\n",
       "3             Althanstraße  16.359489  48.228849     D\n",
       "4              Am Heumarkt  16.376822  48.198641    71\n",
       "..                     ...        ...        ...   ...\n",
       "129  Zentralfriedhof 1.Tor  16.433115  48.159185    71\n",
       "130  Zentralfriedhof 2.Tor  16.441950  48.154547    71\n",
       "131  Zentralfriedhof 3.Tor  16.448481  48.152716    71\n",
       "132  Zentralfriedhof 4.Tor  16.453219  48.151706    71\n",
       "133         Zippererstraße  16.410635  48.179450    71\n",
       "\n",
       "[134 rows x 4 columns]"
      ]
     },
     "execution_count": 485,
     "metadata": {},
     "output_type": "execute_result"
    }
   ],
   "source": [
    "hs = hs.groupby(by='HTXTK').agg({'LINES_SPLIT':lambda x: set.union(*x)})\n",
    "hs = pd.merge(uniq_stations, hs, how='inner',on='HTXTK')\n",
    "hs['LINES']=hs['LINES_SPLIT'].str.join(',')\n",
    "hs.drop(columns=['LINES_SPLIT'],inplace=True)\n",
    "hs"
   ]
  },
  {
   "cell_type": "code",
   "execution_count": 486,
   "id": "9355c4be",
   "metadata": {},
   "outputs": [],
   "source": [
    "hs_dist = scidist.squareform(scidist.pdist(hs[['lon','lat']], great_circle_dist))"
   ]
  },
  {
   "cell_type": "code",
   "execution_count": 487,
   "id": "af73cff7",
   "metadata": {},
   "outputs": [],
   "source": [
    "lines = list(sorted(set([item for sublist in hs['LINES'].str.split(',').tolist() for item in sublist])))\n",
    "lines_vec = [ list(map(lambda l: 1 if l in lines_at_station else 0, lines)) for lines_at_station in hs['LINES'].str.split(',').tolist()]\n",
    "hs_dist_lines = scidist.squareform(scidist.pdist(np.array(lines_vec), scidist.jaccard))"
   ]
  },
  {
   "cell_type": "code",
   "execution_count": 488,
   "id": "dbe6c6ee",
   "metadata": {},
   "outputs": [],
   "source": [
    "with open('wienerlinien_ring.json', 'w', encoding='utf8') as f:\n",
    "    jsonstr = {\n",
    "        'E': hs['HTXTK'].tolist(),\n",
    "        'EA': hs_dist.tolist(),\n",
    "        'SR': hs['LINES'].str.split(',').tolist(),\n",
    "        'S': lines,\n",
    "        'SA': hs_dist_lines.tolist()\n",
    "    }\n",
    "    json.dump(jsonstr, f, ensure_ascii=False)"
   ]
  }
 ],
 "metadata": {
  "kernelspec": {
   "display_name": "Python 3 (ipykernel)",
   "language": "python",
   "name": "python3"
  },
  "language_info": {
   "codemirror_mode": {
    "name": "ipython",
    "version": 3
   },
   "file_extension": ".py",
   "mimetype": "text/x-python",
   "name": "python",
   "nbconvert_exporter": "python",
   "pygments_lexer": "ipython3",
   "version": "3.10.10"
  }
 },
 "nbformat": 4,
 "nbformat_minor": 5
}
