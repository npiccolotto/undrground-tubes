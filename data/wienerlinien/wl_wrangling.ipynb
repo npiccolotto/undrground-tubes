{
 "cells": [
  {
   "cell_type": "code",
   "execution_count": 2,
   "id": "b379c838",
   "metadata": {},
   "outputs": [],
   "source": [
    "import pandas as pd\n",
    "import numpy as np\n",
    "import scipy.spatial.distance as scidist\n",
    "import json"
   ]
  },
  {
   "cell_type": "code",
   "execution_count": 3,
   "id": "e84dbb05",
   "metadata": {},
   "outputs": [],
   "source": [
    "from math import radians, degrees, sin, cos, asin, acos, sqrt"
   ]
  },
  {
   "cell_type": "code",
   "execution_count": 4,
   "id": "747d286a",
   "metadata": {},
   "outputs": [],
   "source": [
    "def great_circle_dist(lonlat1,lonlat2):\n",
    "    '''https://medium.com/@petehouston/calculate-distance-of-two-locations-on-earth-using-python-1501b1944d97'''\n",
    "    lon1,lat1=lonlat1\n",
    "    lon2,lat2=lonlat2\n",
    "    lon1, lat1, lon2, lat2 = map(radians, [lon1, lat1, lon2, lat2])\n",
    "    return 6371 * (\n",
    "        acos(sin(lat1) * sin(lat2) + cos(lat1) * cos(lat2) * cos(lon1 - lon2))\n",
    "    )"
   ]
  },
  {
   "cell_type": "code",
   "execution_count": 5,
   "id": "9f3930d6",
   "metadata": {},
   "outputs": [],
   "source": [
    "hs = pd.read_csv('OEFFHALTESTOGD.csv')"
   ]
  },
  {
   "cell_type": "code",
   "execution_count": 6,
   "id": "93664487",
   "metadata": {},
   "outputs": [],
   "source": [
    "# LTYP 4 = subway\n",
    "hs = hs.loc[hs['LTYP'] == 4]"
   ]
  },
  {
   "cell_type": "code",
   "execution_count": 7,
   "id": "4e49396e",
   "metadata": {},
   "outputs": [],
   "source": [
    "hs.drop(labels=['FID','OBJECTID','HTXT','DIVA_ID','WEBLINK1','SE_ANNO_CAD_DATA','LTYP'], axis=1,inplace=True)"
   ]
  },
  {
   "cell_type": "code",
   "execution_count": 8,
   "id": "134b64b4",
   "metadata": {},
   "outputs": [],
   "source": [
    "hs.reset_index(inplace=True)"
   ]
  },
  {
   "cell_type": "code",
   "execution_count": 9,
   "id": "7ee8feee",
   "metadata": {},
   "outputs": [],
   "source": [
    "hs[\"LINES\"] =hs['HLINIEN'].str.findall(r'(?P<LINE>U\\d{1}[EZ]?)').str.join(',')"
   ]
  },
  {
   "cell_type": "code",
   "execution_count": 10,
   "id": "0a8cfc00",
   "metadata": {},
   "outputs": [],
   "source": [
    "hspos = hs.SHAPE.str.extract(\"POINT \\((?P<lon>\\d{2}\\.\\d{10,15}) (?P<lat>\\d{2}\\.\\d{10,15})\\)\")"
   ]
  },
  {
   "cell_type": "code",
   "execution_count": 11,
   "id": "aedd5d2c",
   "metadata": {},
   "outputs": [],
   "source": [
    "hs = pd.concat([hs, hspos],axis=1)"
   ]
  },
  {
   "cell_type": "code",
   "execution_count": 12,
   "id": "ee98cd99",
   "metadata": {},
   "outputs": [],
   "source": [
    "hs.drop(labels=['SHAPE', 'HLINIEN'], axis=1,inplace=True)\n",
    "hs.reset_index(inplace=True)"
   ]
  },
  {
   "cell_type": "code",
   "execution_count": 13,
   "id": "7ab7b534",
   "metadata": {},
   "outputs": [],
   "source": [
    "hs['lat'] = hs['lat'].astype('float64')"
   ]
  },
  {
   "cell_type": "code",
   "execution_count": 14,
   "id": "1e33d114",
   "metadata": {},
   "outputs": [],
   "source": [
    "hs['lon'] = hs['lon'].astype('float64')"
   ]
  },
  {
   "cell_type": "code",
   "execution_count": 15,
   "id": "170feeb2",
   "metadata": {},
   "outputs": [
    {
     "data": {
      "text/html": [
       "<div>\n",
       "<style scoped>\n",
       "    .dataframe tbody tr th:only-of-type {\n",
       "        vertical-align: middle;\n",
       "    }\n",
       "\n",
       "    .dataframe tbody tr th {\n",
       "        vertical-align: top;\n",
       "    }\n",
       "\n",
       "    .dataframe thead th {\n",
       "        text-align: right;\n",
       "    }\n",
       "</style>\n",
       "<table border=\"1\" class=\"dataframe\">\n",
       "  <thead>\n",
       "    <tr style=\"text-align: right;\">\n",
       "      <th></th>\n",
       "      <th>level_0</th>\n",
       "      <th>index</th>\n",
       "      <th>HTXTK</th>\n",
       "      <th>LINES</th>\n",
       "      <th>lon</th>\n",
       "      <th>lat</th>\n",
       "    </tr>\n",
       "  </thead>\n",
       "  <tbody>\n",
       "    <tr>\n",
       "      <th>4</th>\n",
       "      <td>4</td>\n",
       "      <td>4695</td>\n",
       "      <td>Stubentor</td>\n",
       "      <td>U3</td>\n",
       "      <td>16.380276</td>\n",
       "      <td>48.207068</td>\n",
       "    </tr>\n",
       "    <tr>\n",
       "      <th>9</th>\n",
       "      <td>9</td>\n",
       "      <td>4700</td>\n",
       "      <td>Neubaugasse</td>\n",
       "      <td>U3</td>\n",
       "      <td>16.350201</td>\n",
       "      <td>48.198291</td>\n",
       "    </tr>\n",
       "    <tr>\n",
       "      <th>12</th>\n",
       "      <td>12</td>\n",
       "      <td>5021</td>\n",
       "      <td>Mitte-Landstraße</td>\n",
       "      <td>U3,U4</td>\n",
       "      <td>16.384588</td>\n",
       "      <td>48.206044</td>\n",
       "    </tr>\n",
       "    <tr>\n",
       "      <th>13</th>\n",
       "      <td>13</td>\n",
       "      <td>5025</td>\n",
       "      <td>Simmering</td>\n",
       "      <td>U3</td>\n",
       "      <td>16.420009</td>\n",
       "      <td>48.170159</td>\n",
       "    </tr>\n",
       "    <tr>\n",
       "      <th>27</th>\n",
       "      <td>27</td>\n",
       "      <td>5046</td>\n",
       "      <td>Stephansplatz</td>\n",
       "      <td>U1,U3</td>\n",
       "      <td>16.371635</td>\n",
       "      <td>48.208134</td>\n",
       "    </tr>\n",
       "    <tr>\n",
       "      <th>53</th>\n",
       "      <td>53</td>\n",
       "      <td>5221</td>\n",
       "      <td>Oberlaa</td>\n",
       "      <td>U1</td>\n",
       "      <td>16.399554</td>\n",
       "      <td>48.142395</td>\n",
       "    </tr>\n",
       "    <tr>\n",
       "      <th>57</th>\n",
       "      <td>57</td>\n",
       "      <td>5230</td>\n",
       "      <td>Ottakring</td>\n",
       "      <td>U3</td>\n",
       "      <td>16.311672</td>\n",
       "      <td>48.212025</td>\n",
       "    </tr>\n",
       "    <tr>\n",
       "      <th>92</th>\n",
       "      <td>92</td>\n",
       "      <td>5546</td>\n",
       "      <td>Schwedenplatz</td>\n",
       "      <td>U4</td>\n",
       "      <td>16.377896</td>\n",
       "      <td>48.211750</td>\n",
       "    </tr>\n",
       "  </tbody>\n",
       "</table>\n",
       "</div>"
      ],
      "text/plain": [
       "    level_0  index             HTXTK  LINES        lon        lat\n",
       "4         4   4695         Stubentor     U3  16.380276  48.207068\n",
       "9         9   4700       Neubaugasse     U3  16.350201  48.198291\n",
       "12       12   5021  Mitte-Landstraße  U3,U4  16.384588  48.206044\n",
       "13       13   5025         Simmering     U3  16.420009  48.170159\n",
       "27       27   5046     Stephansplatz  U1,U3  16.371635  48.208134\n",
       "53       53   5221           Oberlaa     U1  16.399554  48.142395\n",
       "57       57   5230         Ottakring     U3  16.311672  48.212025\n",
       "92       92   5546     Schwedenplatz     U4  16.377896  48.211750"
      ]
     },
     "execution_count": 15,
     "metadata": {},
     "output_type": "execute_result"
    }
   ],
   "source": [
    "hs = hs.loc[hs['HTXTK'].isin(['Stephansplatz', 'Schwedenplatz', 'Stubentor', 'Mitte-Landstraße', 'Neubaugasse', 'Ottakring', 'Simmering', 'Oberlaa'])]\n",
    "hs"
   ]
  },
  {
   "cell_type": "code",
   "execution_count": 16,
   "id": "9355c4be",
   "metadata": {},
   "outputs": [],
   "source": [
    "hs_dist = scidist.squareform(scidist.pdist(hs[['lon','lat']], great_circle_dist))"
   ]
  },
  {
   "cell_type": "code",
   "execution_count": 17,
   "id": "af73cff7",
   "metadata": {},
   "outputs": [],
   "source": [
    "lines = list(sorted(set([item for sublist in hs['LINES'].str.split(',').tolist() for item in sublist])))\n",
    "lines_vec = [ list(map(lambda l: 1 if l in lines_at_station else 0, lines)) for lines_at_station in hs['LINES'].str.split(',').tolist()]\n",
    "hs_dist_lines = scidist.squareform(scidist.pdist(np.array(lines_vec), scidist.jaccard))"
   ]
  },
  {
   "cell_type": "code",
   "execution_count": 18,
   "id": "dbe6c6ee",
   "metadata": {},
   "outputs": [],
   "source": [
    "with open('wienerlinien_sm.json', 'w', encoding='utf8') as f:\n",
    "    jsonstr = {\n",
    "        'E': hs['HTXTK'].tolist(),\n",
    "        'EA': hs_dist.tolist(),\n",
    "        'SR': hs['LINES'].str.split(',').tolist(),\n",
    "        'S': lines,\n",
    "        'SA': hs_dist_lines.tolist()\n",
    "    }\n",
    "    json.dump(jsonstr, f, ensure_ascii=False)"
   ]
  }
 ],
 "metadata": {
  "kernelspec": {
   "display_name": "Python 3 (ipykernel)",
   "language": "python",
   "name": "python3"
  },
  "language_info": {
   "codemirror_mode": {
    "name": "ipython",
    "version": 3
   },
   "file_extension": ".py",
   "mimetype": "text/x-python",
   "name": "python",
   "nbconvert_exporter": "python",
   "pygments_lexer": "ipython3",
   "version": "3.10.10"
  }
 },
 "nbformat": 4,
 "nbformat_minor": 5
}
